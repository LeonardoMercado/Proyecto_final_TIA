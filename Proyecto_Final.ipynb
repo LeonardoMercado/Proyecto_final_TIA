{
 "cells": [
  {
   "cell_type": "markdown",
   "metadata": {},
   "source": [
    "# Proyecto final Técnicas de inteligencia Artificial.\n",
    "Integrantes:\n",
    "- Leonardo Fabio Mercado Benítez.\n",
    "- María Alejandra Arias Torres."
   ]
  },
  {
   "cell_type": "code",
   "execution_count": 1,
   "metadata": {},
   "outputs": [
    {
     "name": "stdout",
     "output_type": "stream",
     "text": [
      "Librerias importadas correctamente\n"
     ]
    }
   ],
   "source": [
    "import cv2\n",
    "import numpy as np\n",
    "print('Librerias importadas correctamente')"
   ]
  },
  {
   "cell_type": "markdown",
   "metadata": {},
   "source": [
    "Intento 1"
   ]
  },
  {
   "cell_type": "code",
   "execution_count": 13,
   "metadata": {},
   "outputs": [],
   "source": [
    "video = cv2.VideoCapture(0)\n",
    "\n",
    "i = 0\n",
    "kernel = np.ones((5, 5), np.uint8)\n",
    "\n",
    "while True:\n",
    "    ret, frame = video.read()\n",
    "    if ret == False:\n",
    "        break\n",
    "    cv2.imshow(\"Color\", frame)\n",
    "    gray = cv2.cvtColor(frame, cv2.COLOR_BGR2GRAY)\n",
    "    if i == 20:\n",
    "        bgGray = gray\n",
    "    elif i > 20:\n",
    "        dif = cv2.absdiff(gray, bgGray)\n",
    "        cv2.imshow('Diferencia', dif)\n",
    "        _, th = cv2.threshold(dif, 40, 255, cv2.THRESH_BINARY)\n",
    "        cv2.imshow(\"Umbralizado\", th)\n",
    "        opening = cv2.morphologyEx(th, cv2.MORPH_OPEN, kernel)\n",
    "        closing = cv2.morphologyEx(opening, cv2.MORPH_CLOSE, kernel)\n",
    "        cv2.imshow(\"pre-Filtrado\", closing)\n",
    "        \n",
    "    i = i + 1\n",
    "        \n",
    "\n",
    "    if cv2.waitKey(30) & 0xFF == ord(\"q\"):\n",
    "        break\n",
    "        \n",
    "video.release()\n",
    "cv2.destroyAllWindows();"
   ]
  },
  {
   "cell_type": "code",
   "execution_count": 4,
   "metadata": {},
   "outputs": [],
   "source": [
    "video.release()\n",
    "cv2.destroyAllWindows();"
   ]
  }
 ],
 "metadata": {
  "kernelspec": {
   "display_name": "Python 3",
   "language": "python",
   "name": "python3"
  },
  "language_info": {
   "codemirror_mode": {
    "name": "ipython",
    "version": 3
   },
   "file_extension": ".py",
   "mimetype": "text/x-python",
   "name": "python",
   "nbconvert_exporter": "python",
   "pygments_lexer": "ipython3",
   "version": "3.7.4"
  }
 },
 "nbformat": 4,
 "nbformat_minor": 2
}

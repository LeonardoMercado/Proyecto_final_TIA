{
 "cells": [
  {
   "cell_type": "code",
   "execution_count": 1,
   "metadata": {},
   "outputs": [],
   "source": [
    "import cv2\n",
    "import numpy as np\n",
    "from scipy import ndimage\n",
    "\n",
    "video = cv2.VideoCapture(0)\n",
    "\n",
    "i = 0\n",
    "kernel = np.ones((5, 5), np.uint8)\n",
    "while True:\n",
    "\n",
    "    ret, frame = video.read()\n",
    "    if ret == False:\n",
    "        break\n",
    "    cv2.imshow(\"Color\", frame)\n",
    "    gray = cv2.cvtColor(frame, cv2.COLOR_BGR2GRAY)\n",
    "    if i == 20:\n",
    "        bgGray = gray\n",
    "    elif i > 20:\n",
    "        dif = cv2.absdiff(gray, bgGray)\n",
    "        cv2.imshow(\"Resta\", dif)\n",
    "        _, th = cv2.threshold(dif, 40, 255, cv2.THRESH_BINARY)\n",
    "        # cnts, _ = cv2.findContours(th, cv2.RETR_EXTERNAL, cv2.CHAIN_APPROX_SIMPLE)\n",
    "        # cv2.drawContours(frame, cnts, -1, (255, 0, 0), 5)\n",
    "        cv2.imshow(\"Umbralisado\", th)\n",
    "\n",
    "        opening = cv2.morphologyEx(th, cv2.MORPH_OPEN, kernel)\n",
    "        closing = cv2.morphologyEx(opening, cv2.MORPH_CLOSE, kernel)\n",
    "        cv2.imshow(\"pre-Filtrado\", closing)\n",
    "        src = closing.copy()\n",
    "\n",
    "        cv2.floodFill(src, None, (5, 5), (255, 0, 0))\n",
    "\n",
    "        cv2.imshow(\"llenado\", src)\n",
    "\n",
    "    i = i + 1\n",
    "\n",
    "    if cv2.waitKey(30) & 0xFF == ord(\"q\"):\n",
    "        break\n",
    "video.release()\n",
    "cv2.destroyAllWindows()"
   ]
  }
 ],
 "metadata": {
  "kernelspec": {
   "display_name": "Python 3",
   "language": "python",
   "name": "python3"
  },
  "language_info": {
   "codemirror_mode": {
    "name": "ipython",
    "version": 3
   },
   "file_extension": ".py",
   "mimetype": "text/x-python",
   "name": "python",
   "nbconvert_exporter": "python",
   "pygments_lexer": "ipython3",
   "version": "3.7.4"
  }
 },
 "nbformat": 4,
 "nbformat_minor": 2
}
